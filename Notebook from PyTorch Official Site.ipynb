{
 "cells": [
  {
   "cell_type": "markdown",
   "metadata": {},
   "source": [
    "Source: https://pytorch.org/tutorials/beginner/blitz/cifar10_tutorial.html#sphx-glr-beginner-blitz-cifar10-tutorial-py\n",
    "\n",
    "\n",
    "Generally, when you have to deal with image, text, audio or video data, you can use standard python packages that load data into a numpy array. Then you can convert this array into a `torch.*Tensor`.\n",
    "\n",
    "For images, packages such as `Pillow`, `OpenCV` are useful\n",
    "For audio, packages such as `scipy` and `librosa`\n",
    "For text, either raw Python or Cython based loading, or `NLTK` and `SpaCy` are useful\n",
    "Specifically for vision, we have created a package called `torchvision`, that has data loaders for common datasets such as Imagenet, CIFAR10, MNIST, etc. and data transformers for images, viz., `torchvision.datasets` and `torch.utils.data.DataLoader`.\n",
    "\n",
    "This provides a huge convenience and avoids writing boilerplate code.\n",
    "\n",
    "For this tutorial, we will use the `CIFAR10` dataset. It has the classes: `‘airplane’, ‘automobile’, ‘bird’, ‘cat’, ‘deer’, ‘dog’, ‘frog’, ‘horse’, ‘ship’, ‘truck’`. The images in `CIFAR-10` are of size `3x32x32`, i.e. 3-channel color images of 32x32 pixels in size.\n",
    "![CIFAR-10](https://pytorch.org/tutorials/_images/cifar10.png)"
   ]
  },
  {
   "cell_type": "markdown",
   "metadata": {},
   "source": [
    "## Training an image classifier\n",
    "We will do the following steps in order:\n",
    "\n",
    "1. Load and normalizing the CIFAR10 training and test datasets using `torchvision`\n",
    "2. Define a Convolutional Neural Network\n",
    "3. Define a loss function\n",
    "4. Train the network on the training data\n",
    "5. Test the network on the test data\n",
    "\n",
    "\n",
    "## 1. Loading and normalizing `CIFAR10`"
   ]
  },
  {
   "cell_type": "code",
   "execution_count": 1,
   "metadata": {},
   "outputs": [],
   "source": [
    "import torch\n",
    "import torchvision\n",
    "import torchvision.transforms as transforms"
   ]
  },
  {
   "cell_type": "markdown",
   "metadata": {},
   "source": [
    "The output of torchvision datasets are PILImage images of range `[0, 1]`. We transform them to Tensors of normalized range `[-1, 1]`. .. note:"
   ]
  },
  {
   "cell_type": "code",
   "execution_count": 2,
   "metadata": {},
   "outputs": [
    {
     "name": "stdout",
     "output_type": "stream",
     "text": [
      "cuda:0\n"
     ]
    }
   ],
   "source": [
    "device = torch.device(\"cuda:0\" if torch.cuda.is_available() else \"cpu\")\n",
    "# Assuming that we are on a CUDA machine, this should print a CUDA device:\n",
    "print(device)"
   ]
  },
  {
   "cell_type": "code",
   "execution_count": 3,
   "metadata": {},
   "outputs": [
    {
     "data": {
      "text/plain": [
       "Compose(\n",
       "    ToTensor()\n",
       "    Normalize(mean=(0.5, 0.5, 0.5), std=(0.5, 0.5, 0.5))\n",
       ")"
      ]
     },
     "execution_count": 3,
     "metadata": {},
     "output_type": "execute_result"
    }
   ],
   "source": [
    "transform = transforms.Compose([\n",
    "    transforms.ToTensor(), \n",
    "    transforms.Normalize((0.5, 0.5, 0.5), (0.5, 0.5, 0.5)), \n",
    "])\n",
    "transform"
   ]
  },
  {
   "cell_type": "code",
   "execution_count": 4,
   "metadata": {},
   "outputs": [
    {
     "name": "stdout",
     "output_type": "stream",
     "text": [
      "Files already downloaded and verified\n",
      "Files already downloaded and verified\n"
     ]
    }
   ],
   "source": [
    "# Downloading the dataset\n",
    "train_ds = torchvision.datasets.CIFAR10(root = './data/', train=True, download = True, transform=transform)\n",
    "test_ds = torchvision.datasets.CIFAR10(root = './data/', train=False, download = True, transform=transform)\n",
    "classes = ('plane', 'car', 'bird', 'cat', 'deer', 'dog', 'frog', 'horse', 'ship', 'truck')"
   ]
  },
  {
   "cell_type": "code",
   "execution_count": 5,
   "metadata": {},
   "outputs": [],
   "source": [
    "# Converting the dataset into a DataLoader\n",
    "train_dl = torch.utils.data.DataLoader(train_ds, shuffle=True, batch_size= 32, num_workers=4)\n",
    "test_dl = torch.utils.data.DataLoader(test_ds, shuffle=False, batch_size= 32, num_workers=4)"
   ]
  },
  {
   "cell_type": "markdown",
   "metadata": {},
   "source": [
    "## Data Visualizations"
   ]
  },
  {
   "cell_type": "code",
   "execution_count": 6,
   "metadata": {},
   "outputs": [],
   "source": [
    "import matplotlib.pyplot as plt\n",
    "import numpy as np"
   ]
  },
  {
   "cell_type": "code",
   "execution_count": null,
   "metadata": {},
   "outputs": [],
   "source": [
    "def imshow(img):\n",
    "    img = img/2 + 0.5\n",
    "    npimg = img.numpy()\n",
    "    plt.figure(figsize=(8,1))\n",
    "    plt.imshow(np.transpose(npimg, (1,2,0)))\n",
    "    plt.axis(False)\n",
    "    plt.show()\n",
    "    \n",
    "dataiter = iter(train_dl)\n",
    "images, labels = dataiter.next()"
   ]
  },
  {
   "cell_type": "code",
   "execution_count": null,
   "metadata": {},
   "outputs": [],
   "source": [
    "collage = torchvision.utils.make_grid(images)\n",
    "imshow(collage)\n",
    "print(' '.join('%5s' % classes[labels[j]] for j in range(8)))"
   ]
  },
  {
   "cell_type": "markdown",
   "metadata": {},
   "source": [
    "# 2. Define a Convolutional Neural Network"
   ]
  },
  {
   "cell_type": "code",
   "execution_count": 7,
   "metadata": {},
   "outputs": [],
   "source": [
    "import torch.nn as nn\n",
    "import torch.nn.functional as F"
   ]
  },
  {
   "cell_type": "code",
   "execution_count": null,
   "metadata": {},
   "outputs": [],
   "source": []
  },
  {
   "cell_type": "code",
   "execution_count": 8,
   "metadata": {
    "collapsed": true
   },
   "outputs": [
    {
     "data": {
      "text/plain": [
       "Net(\n",
       "  (conv1): Conv2d(3, 12, kernel_size=(5, 5), stride=(1, 1))\n",
       "  (pool): MaxPool2d(kernel_size=(2, 2), stride=(2, 2), padding=0, dilation=1, ceil_mode=False)\n",
       "  (conv2): Conv2d(12, 32, kernel_size=(5, 5), stride=(1, 1))\n",
       "  (fc1): Linear(in_features=800, out_features=120, bias=True)\n",
       "  (fc2): Linear(in_features=120, out_features=84, bias=True)\n",
       "  (fc3): Linear(in_features=84, out_features=10, bias=True)\n",
       ")"
      ]
     },
     "execution_count": 8,
     "metadata": {},
     "output_type": "execute_result"
    }
   ],
   "source": [
    "class Net(nn.Module):\n",
    "    def __init__(self):\n",
    "        super(Net, self).__init__()\n",
    "        self.conv1 = nn.Conv2d(in_channels=3, out_channels=12, kernel_size=5)\n",
    "        self.pool = nn.MaxPool2d(kernel_size=(2,2))\n",
    "        self.conv2 = nn.Conv2d(in_channels=12, out_channels=32, kernel_size=5)\n",
    "        self.fc1 = nn.Linear(in_features=32*5*5, out_features=120)\n",
    "        self.fc2 = nn.Linear(in_features=120, out_features=84)\n",
    "        self.fc3 = nn.Linear(in_features=84, out_features=10)\n",
    "        \n",
    "    def forward(self, x):\n",
    "        x = self.pool(F.relu(self.conv1(x)))\n",
    "        x = self.pool(F.relu(self.conv2(x)))\n",
    "        x = x.view(-1, 32*5*5)\n",
    "        x = self.fc1(x)\n",
    "        x = self.fc2(x)\n",
    "        x = self.fc3(x)\n",
    "        return x\n",
    "\n"
   ]
  },
  {
   "cell_type": "code",
   "execution_count": 9,
   "metadata": {},
   "outputs": [
    {
     "data": {
      "text/plain": [
       "Net(\n",
       "  (conv1): Conv2d(3, 12, kernel_size=(5, 5), stride=(1, 1))\n",
       "  (pool): MaxPool2d(kernel_size=(2, 2), stride=(2, 2), padding=0, dilation=1, ceil_mode=False)\n",
       "  (conv2): Conv2d(12, 32, kernel_size=(5, 5), stride=(1, 1))\n",
       "  (fc1): Linear(in_features=800, out_features=120, bias=True)\n",
       "  (fc2): Linear(in_features=120, out_features=84, bias=True)\n",
       "  (fc3): Linear(in_features=84, out_features=10, bias=True)\n",
       ")"
      ]
     },
     "execution_count": 9,
     "metadata": {},
     "output_type": "execute_result"
    }
   ],
   "source": [
    "model = Net()\n",
    "model.to(device)"
   ]
  },
  {
   "cell_type": "markdown",
   "metadata": {},
   "source": [
    "# 3. Define a Loss function and optimizer\n",
    "Let’s use a Classification Cross-Entropy loss and SGD with momentum."
   ]
  },
  {
   "cell_type": "code",
   "execution_count": 17,
   "metadata": {},
   "outputs": [],
   "source": [
    "import torch.optim as optim\n",
    "\n",
    "loss_func = nn.CrossEntropyLoss()\n",
    "optimizer = optim.SGD(model.parameters(), lr=1e-3, momentum=0.9)\n",
    "epochs = 30"
   ]
  },
  {
   "cell_type": "markdown",
   "metadata": {},
   "source": [
    "# 4. Train the network\n",
    "This is when things start to get interesting. We simply have to loop over our data iterator, and feed the inputs to the network and optimize."
   ]
  },
  {
   "cell_type": "code",
   "execution_count": 18,
   "metadata": {
    "scrolled": true
   },
   "outputs": [],
   "source": [
    "def fit (epochs, model, train_dl, loss_func, optimizer):\n",
    "    for epoch in range(epochs):         #One epoch runs over the whole image set\n",
    "        running_loss = 0.0\n",
    "        for i, data in enumerate(train_dl, start=0):\n",
    "            xb, yb = data[0].to(device), data[1].to(device)\n",
    "            optimizer.zero_grad()\n",
    "\n",
    "            # Forward  + backward + optimize\n",
    "            preds = model(xb)\n",
    "            loss = loss_func(preds, yb)\n",
    "            loss.backward()\n",
    "            optimizer.step()\n",
    "\n",
    "            #print statistics\n",
    "            running_loss += loss.item()\n",
    "            if i%500==499:\n",
    "                print('[Epoch: %d, Batch: %5d] loss: %.3f' %(epoch, i+1, running_loss/1000))\n",
    "                running_loss = 0.0\n",
    "    print('Finished Training :) ')\n",
    "        \n",
    "   \n",
    "        "
   ]
  },
  {
   "cell_type": "code",
   "execution_count": 21,
   "metadata": {},
   "outputs": [
    {
     "name": "stdout",
     "output_type": "stream",
     "text": [
      "[Epoch: 0, Batch:   500] loss: 0.281\n",
      "[Epoch: 0, Batch:  1000] loss: 0.288\n",
      "[Epoch: 0, Batch:  1500] loss: 0.291\n",
      "[Epoch: 1, Batch:   500] loss: 0.280\n",
      "[Epoch: 1, Batch:  1000] loss: 0.286\n",
      "[Epoch: 1, Batch:  1500] loss: 0.296\n",
      "[Epoch: 2, Batch:   500] loss: 0.278\n",
      "[Epoch: 2, Batch:  1000] loss: 0.289\n",
      "[Epoch: 2, Batch:  1500] loss: 0.290\n",
      "[Epoch: 3, Batch:   500] loss: 0.275\n",
      "[Epoch: 3, Batch:  1000] loss: 0.281\n",
      "[Epoch: 3, Batch:  1500] loss: 0.292\n",
      "[Epoch: 4, Batch:   500] loss: 0.271\n",
      "[Epoch: 4, Batch:  1000] loss: 0.288\n",
      "[Epoch: 4, Batch:  1500] loss: 0.293\n",
      "[Epoch: 5, Batch:   500] loss: 0.274\n",
      "[Epoch: 5, Batch:  1000] loss: 0.280\n",
      "[Epoch: 5, Batch:  1500] loss: 0.294\n",
      "[Epoch: 6, Batch:   500] loss: 0.274\n",
      "[Epoch: 6, Batch:  1000] loss: 0.277\n",
      "[Epoch: 6, Batch:  1500] loss: 0.289\n",
      "[Epoch: 7, Batch:   500] loss: 0.275\n",
      "[Epoch: 7, Batch:  1000] loss: 0.281\n",
      "[Epoch: 7, Batch:  1500] loss: 0.282\n",
      "[Epoch: 8, Batch:   500] loss: 0.268\n",
      "[Epoch: 8, Batch:  1000] loss: 0.282\n",
      "[Epoch: 8, Batch:  1500] loss: 0.285\n",
      "[Epoch: 9, Batch:   500] loss: 0.273\n",
      "[Epoch: 9, Batch:  1000] loss: 0.274\n",
      "[Epoch: 9, Batch:  1500] loss: 0.289\n",
      "[Epoch: 10, Batch:   500] loss: 0.269\n",
      "[Epoch: 10, Batch:  1000] loss: 0.276\n",
      "[Epoch: 10, Batch:  1500] loss: 0.290\n",
      "[Epoch: 11, Batch:   500] loss: 0.266\n",
      "[Epoch: 11, Batch:  1000] loss: 0.280\n",
      "[Epoch: 11, Batch:  1500] loss: 0.284\n",
      "[Epoch: 12, Batch:   500] loss: 0.267\n",
      "[Epoch: 12, Batch:  1000] loss: 0.281\n",
      "[Epoch: 12, Batch:  1500] loss: 0.279\n",
      "[Epoch: 13, Batch:   500] loss: 0.265\n",
      "[Epoch: 13, Batch:  1000] loss: 0.275\n",
      "[Epoch: 13, Batch:  1500] loss: 0.284\n",
      "[Epoch: 14, Batch:   500] loss: 0.270\n",
      "[Epoch: 14, Batch:  1000] loss: 0.275\n",
      "[Epoch: 14, Batch:  1500] loss: 0.279\n",
      "[Epoch: 15, Batch:   500] loss: 0.267\n",
      "[Epoch: 15, Batch:  1000] loss: 0.277\n",
      "[Epoch: 15, Batch:  1500] loss: 0.278\n",
      "[Epoch: 16, Batch:   500] loss: 0.267\n",
      "[Epoch: 16, Batch:  1000] loss: 0.271\n",
      "[Epoch: 16, Batch:  1500] loss: 0.282\n",
      "[Epoch: 17, Batch:   500] loss: 0.267\n",
      "[Epoch: 17, Batch:  1000] loss: 0.269\n",
      "[Epoch: 17, Batch:  1500] loss: 0.274\n",
      "[Epoch: 18, Batch:   500] loss: 0.268\n",
      "[Epoch: 18, Batch:  1000] loss: 0.268\n",
      "[Epoch: 18, Batch:  1500] loss: 0.283\n",
      "[Epoch: 19, Batch:   500] loss: 0.266\n",
      "[Epoch: 19, Batch:  1000] loss: 0.270\n",
      "[Epoch: 19, Batch:  1500] loss: 0.276\n",
      "[Epoch: 20, Batch:   500] loss: 0.260\n",
      "[Epoch: 20, Batch:  1000] loss: 0.274\n",
      "[Epoch: 20, Batch:  1500] loss: 0.272\n",
      "[Epoch: 21, Batch:   500] loss: 0.258\n",
      "[Epoch: 21, Batch:  1000] loss: 0.279\n",
      "[Epoch: 21, Batch:  1500] loss: 0.275\n",
      "[Epoch: 22, Batch:   500] loss: 0.261\n",
      "[Epoch: 22, Batch:  1000] loss: 0.263\n",
      "[Epoch: 22, Batch:  1500] loss: 0.282\n",
      "[Epoch: 23, Batch:   500] loss: 0.260\n",
      "[Epoch: 23, Batch:  1000] loss: 0.265\n",
      "[Epoch: 23, Batch:  1500] loss: 0.272\n",
      "[Epoch: 24, Batch:   500] loss: 0.258\n",
      "[Epoch: 24, Batch:  1000] loss: 0.270\n",
      "[Epoch: 24, Batch:  1500] loss: 0.272\n",
      "[Epoch: 25, Batch:   500] loss: 0.258\n",
      "[Epoch: 25, Batch:  1000] loss: 0.264\n",
      "[Epoch: 25, Batch:  1500] loss: 0.273\n",
      "[Epoch: 26, Batch:   500] loss: 0.253\n",
      "[Epoch: 26, Batch:  1000] loss: 0.272\n",
      "[Epoch: 26, Batch:  1500] loss: 0.269\n",
      "[Epoch: 27, Batch:   500] loss: 0.250\n",
      "[Epoch: 27, Batch:  1000] loss: 0.272\n",
      "[Epoch: 27, Batch:  1500] loss: 0.271\n",
      "[Epoch: 28, Batch:   500] loss: 0.249\n",
      "[Epoch: 28, Batch:  1000] loss: 0.268\n",
      "[Epoch: 28, Batch:  1500] loss: 0.272\n",
      "[Epoch: 29, Batch:   500] loss: 0.254\n",
      "[Epoch: 29, Batch:  1000] loss: 0.269\n",
      "[Epoch: 29, Batch:  1500] loss: 0.265\n",
      "Finished Training :) \n"
     ]
    }
   ],
   "source": [
    "fit (epochs, model, train_dl, loss_func, optimizer)"
   ]
  },
  {
   "cell_type": "markdown",
   "metadata": {},
   "source": [
    "# 5. Saving and Loading the trained model\n",
    "let us save the model so that next time we can start from here. "
   ]
  },
  {
   "cell_type": "code",
   "execution_count": null,
   "metadata": {},
   "outputs": [],
   "source": [
    "# Saving the trained model\n",
    "savepath = './cifar-stage1-gpu.pth'\n",
    "torch.save(model.state_dict(), savepath)"
   ]
  },
  {
   "cell_type": "code",
   "execution_count": 10,
   "metadata": {},
   "outputs": [
    {
     "data": {
      "text/plain": [
       "<All keys matched successfully>"
      ]
     },
     "execution_count": 10,
     "metadata": {},
     "output_type": "execute_result"
    }
   ],
   "source": [
    "savepath = './cifar-stage1-gpu.pth'\n",
    "model = Net()\n",
    "model.to(device)\n",
    "model.load_state_dict(torch.load(savepath))"
   ]
  },
  {
   "cell_type": "markdown",
   "metadata": {},
   "source": [
    "# 6. Test the network on the training data\n",
    "We have trained the network for 2 passes over the training dataset. But we need to check if the network has learnt anything at all.\n",
    "\n",
    "We will check this by predicting the class label that the neural network outputs, and checking it against the ground-truth. If the prediction is correct, we add the sample to the list of correct predictions.\n",
    "Okay, first step. Let us display an image from the test set to get familiar."
   ]
  },
  {
   "cell_type": "code",
   "execution_count": null,
   "metadata": {},
   "outputs": [],
   "source": [
    "def grid_show(images, labels, classes, preds = None):\n",
    "    \"\"\"\n",
    "    This function makes grid of images and labels given. \n",
    "    Both original labels and predictions can be given. \n",
    "    \"\"\"\n",
    "    no_of_images = images.shape[0]\n",
    "    cols = 8\n",
    "    rows = no_of_images // cols\n",
    "    # Changing the channels of the image in order to fit it to the matplotlib format view\n",
    "    images = images.cpu()\n",
    "    images = np.array(images).transpose(0,2,3,1)\n",
    "    # De Normalizing the images\n",
    "    images = (images/2 + 0.5)*255\n",
    "    \n",
    "\n",
    "    plt.figure(figsize=(cols+3, rows+2))\n",
    "    index = 0\n",
    "    for i in range(rows):\n",
    "        for j in range(cols):\n",
    "            plt.subplot(rows, cols, index+1)\n",
    "            plt.imshow(images[index].astype('uint8'))\n",
    "            if preds is None:\n",
    "                plt.title(str(classes[labels[index].item()]))\n",
    "            else:\n",
    "                plt.title(str(classes[labels[index].item()]) + '/' + str(classes[preds[index].item()]))\n",
    "            plt.axis(False)\n",
    "            index +=1\n",
    "    plt.show()\n",
    "    "
   ]
  },
  {
   "cell_type": "code",
   "execution_count": null,
   "metadata": {},
   "outputs": [],
   "source": [
    "def get_predictions(model, images):\n",
    "    \"\"\"\n",
    "    Inference function for a single batch\n",
    "    \"\"\"\n",
    "    with torch.no_grad():\n",
    "        _, predicted = torch.max(model(images), 1)\n",
    "    return predicted"
   ]
  },
  {
   "cell_type": "code",
   "execution_count": null,
   "metadata": {},
   "outputs": [],
   "source": [
    "def show_predictions(model, test_dl, classes, batches = 1):\n",
    "    \"\"\"Function to show the predictions in a grid format for mutiple batches.\"\"\"\n",
    "    print('Original/Predicted')\n",
    "    dataiter = iter(test_dl)\n",
    "    \n",
    "    for i in range(batches):\n",
    "        data = dataiter.next()\n",
    "        print('Batch No: ', i+1)\n",
    "        images, labels = data[0].to(device), data[1].to(device) \n",
    "        preds = get_predictions(model, images)\n",
    "        grid_show(images, labels, classes, preds=preds)\n",
    "\n",
    "\n",
    "\n",
    "        \n",
    "    \n",
    "    "
   ]
  },
  {
   "cell_type": "code",
   "execution_count": null,
   "metadata": {
    "scrolled": true
   },
   "outputs": [],
   "source": [
    "show_predictions(model, test_dl, classes, batches=2)"
   ]
  },
  {
   "cell_type": "markdown",
   "metadata": {},
   "source": [
    "## Calculating the accuracy over the whole testset\n",
    "Now let us have a look at the whole dataset and try to find out how our model performs over the dataset. "
   ]
  },
  {
   "cell_type": "code",
   "execution_count": 11,
   "metadata": {},
   "outputs": [],
   "source": [
    "def get_accuracy(model, test_dl):\n",
    "    correct = 0\n",
    "    total = 0\n",
    "    with torch.no_grad():\n",
    "        for data in test_dl:\n",
    "            images, labels = data[0].to(device), data[1].to(device)\n",
    "            outputs = model(images)\n",
    "            _, predicted = torch.max(outputs.data, 1)\n",
    "            total += labels.size(0)\n",
    "            correct += (predicted == labels).sum().item()\n",
    "\n",
    "    return  100 * correct / total"
   ]
  },
  {
   "cell_type": "code",
   "execution_count": 23,
   "metadata": {},
   "outputs": [
    {
     "data": {
      "text/plain": [
       "67.25"
      ]
     },
     "execution_count": 23,
     "metadata": {},
     "output_type": "execute_result"
    }
   ],
   "source": [
    "get_accuracy(model, test_dl)"
   ]
  },
  {
   "cell_type": "code",
   "execution_count": 24,
   "metadata": {},
   "outputs": [],
   "source": [
    "def get_class_accuracy(model, test_dl, classes):\n",
    "    class_correct = list(0. for i in range(10))\n",
    "    class_total = list(0. for i in range(10))\n",
    "    with torch.no_grad():\n",
    "        for data in test_dl:\n",
    "            images, labels = data[0].to(device), data[1].to(device)\n",
    "            outputs = model(images)\n",
    "            _, predicted = torch.max(outputs, 1)\n",
    "            c = (predicted == labels).squeeze()\n",
    "            for i in range(4):\n",
    "                label = labels[i]\n",
    "                class_correct[label] += c[i].item()\n",
    "                class_total[label] += 1\n",
    "\n",
    "\n",
    "    for i in range(10):\n",
    "        print('Accuracy of %5s : %2d%%' % (\n",
    "            classes[i], 100 * class_correct[i] / class_total[i]))"
   ]
  },
  {
   "cell_type": "code",
   "execution_count": 25,
   "metadata": {},
   "outputs": [
    {
     "name": "stdout",
     "output_type": "stream",
     "text": [
      "Accuracy of plane : 68%\n",
      "Accuracy of   car : 87%\n",
      "Accuracy of  bird : 46%\n",
      "Accuracy of   cat : 48%\n",
      "Accuracy of  deer : 62%\n",
      "Accuracy of   dog : 65%\n",
      "Accuracy of  frog : 60%\n",
      "Accuracy of horse : 67%\n",
      "Accuracy of  ship : 78%\n",
      "Accuracy of truck : 82%\n"
     ]
    }
   ],
   "source": [
    "get_class_accuracy(model, test_dl, classes)"
   ]
  },
  {
   "cell_type": "code",
   "execution_count": null,
   "metadata": {},
   "outputs": [],
   "source": []
  }
 ],
 "metadata": {
  "kernelspec": {
   "display_name": "torch_env",
   "language": "python",
   "name": "torch_env"
  },
  "language_info": {
   "codemirror_mode": {
    "name": "ipython",
    "version": 3
   },
   "file_extension": ".py",
   "mimetype": "text/x-python",
   "name": "python",
   "nbconvert_exporter": "python",
   "pygments_lexer": "ipython3",
   "version": "3.7.3"
  }
 },
 "nbformat": 4,
 "nbformat_minor": 4
}
